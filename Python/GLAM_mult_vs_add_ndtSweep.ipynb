{
 "cells": [
  {
   "cell_type": "markdown",
   "metadata": {},
   "source": [
    "# Relative GLAM Fit- Additive vs. Multiplicative - NDT sweep\n",
    "This notebook seperately compares the fit of a multiplicative and additive model across different amounts of NDT truncation. "
   ]
  },
  {
   "cell_type": "markdown",
   "metadata": {},
   "source": [
    "## Housekeeping\n",
    "### Load Necessary Libraries"
   ]
  },
  {
   "cell_type": "code",
   "execution_count": 1,
   "metadata": {},
   "outputs": [],
   "source": [
    "import warnings\n",
    "from os.path import join\n",
    "\n",
    "import glambox as gb\n",
    "import matplotlib.pyplot as plt\n",
    "import numpy as np\n",
    "import pandas as pd\n",
    "import pymc3 as pm\n",
    "\n",
    "# Ignore future warnings re: multi-indexing\n",
    "warnings.simplefilter(action=\"ignore\", category=FutureWarning)\n",
    "\n",
    "# Fix for compilation error (as per Felix Molter)\n",
    "# https://stackoverflow.com/a/51312739\n",
    "import theano\n",
    "\n",
    "# theano.config.gcc.cxxflags = \"-Wno-c++11-narrowing\"\n",
    "# theano.config.cxx\n",
    "# theano.config.gcc.cxxflags = \"\"\n"
   ]
  },
  {
   "cell_type": "markdown",
   "metadata": {},
   "source": [
    "### Set MCMC Sampling Parameters"
   ]
  },
  {
   "cell_type": "code",
   "execution_count": 2,
   "metadata": {},
   "outputs": [],
   "source": [
    "# Set MCMC parameters\n",
    "n_tune = 5000\n",
    "n_draws = 5000\n"
   ]
  },
  {
   "cell_type": "markdown",
   "metadata": {},
   "source": [
    "### Set Other Miscellaneous Variables"
   ]
  },
  {
   "cell_type": "code",
   "execution_count": 3,
   "metadata": {},
   "outputs": [],
   "source": [
    "# Set error weight\n",
    "error_weight = 0.01\n",
    "\n",
    "# set random seed for replicability\n",
    "np.random.seed(5)\n",
    "\n",
    "# set monkey ID\n",
    "monkeys = [\"MonkeyC\", \"MonkeyK\"]"
   ]
  },
  {
   "cell_type": "markdown",
   "metadata": {
    "tags": []
   },
   "source": [
    "### Load in Data\n",
    "For this analysis, the data has been collapsed across both monkeys. The 'subject' field indicates data with distinct truncation amounts. The actual truncation values can be seen in the 'ndt' field. "
   ]
  },
  {
   "cell_type": "code",
   "execution_count": 4,
   "metadata": {},
   "outputs": [
    {
     "name": "stdout",
     "output_type": "stream",
     "text": [
      "[  0.  50. 100. 150. 200. 300. 400.]\n"
     ]
    }
   ],
   "source": [
    "data = pd.read_csv(\"GLAMdata_ndtSweep.csv\")\n",
    "\n",
    "# display the unique NDT truncation values\n",
    "print(data.ndt.unique())"
   ]
  },
  {
   "cell_type": "markdown",
   "metadata": {},
   "source": [
    "#### Split data into even and odd trials"
   ]
  },
  {
   "cell_type": "markdown",
   "metadata": {
    "tags": []
   },
   "source": [
    "## Multiplicative Drift Term\n"
   ]
  },
  {
   "cell_type": "markdown",
   "metadata": {},
   "source": [
    "### Parameter Estimation\n",
    "This section estimates GLAM parameters using a model in which gamma is treated as multiplicative. This is changed by setting the 'drift' argument to 'multiplicative' when the model object is initialized"
   ]
  },
  {
   "cell_type": "code",
   "execution_count": 5,
   "metadata": {},
   "outputs": [],
   "source": [
    "np.random.seed(5)\n",
    "# initialize GLAM model object with a multiplicative drift term\n",
    "model_mult = gb.GLAM(data=data, name='mult',drift='multiplicative')"
   ]
  },
  {
   "cell_type": "code",
   "execution_count": 6,
   "metadata": {},
   "outputs": [
    {
     "name": "stdout",
     "output_type": "stream",
     "text": [
      "Generating single subject models for 7 subjects...\n",
      "Elemwise{add,no_inplace}.0\n",
      "Elemwise{add,no_inplace}.0\n",
      "Elemwise{add,no_inplace}.0\n",
      "Elemwise{add,no_inplace}.0\n",
      "Elemwise{add,no_inplace}.0\n",
      "Elemwise{add,no_inplace}.0\n",
      "Elemwise{add,no_inplace}.0\n",
      "Elemwise{add,no_inplace}.0\n",
      "Elemwise{add,no_inplace}.0\n",
      "Elemwise{add,no_inplace}.0\n",
      "Elemwise{add,no_inplace}.0\n",
      "Elemwise{add,no_inplace}.0\n",
      "Elemwise{add,no_inplace}.0\n",
      "Elemwise{add,no_inplace}.0\n",
      "Elemwise{add,no_inplace}.0\n",
      "Elemwise{add,no_inplace}.0\n",
      "Elemwise{add,no_inplace}.0\n",
      "Elemwise{add,no_inplace}.0\n",
      "Elemwise{add,no_inplace}.0\n",
      "Elemwise{add,no_inplace}.0\n",
      "Elemwise{add,no_inplace}.0\n"
     ]
    }
   ],
   "source": [
    "# define model. \n",
    "model_mult.make_model(kind=\"individual\", t0_val=0, error_weight=error_weight)"
   ]
  },
  {
   "cell_type": "code",
   "execution_count": 7,
   "metadata": {},
   "outputs": [
    {
     "name": "stdout",
     "output_type": "stream",
     "text": [
      "Fitting 7 model(s) using MCMC...\n",
      "  Fitting model 1 of 7...\n"
     ]
    },
    {
     "name": "stderr",
     "output_type": "stream",
     "text": [
      "Sequential sampling (1 chains in 1 job)\n",
      "CompoundStep\n",
      ">Metropolis: [tau]\n",
      ">Metropolis: [s]\n",
      ">Metropolis: [gamma]\n",
      ">Metropolis: [v]\n",
      "100%|█████████████████████████████████████| 10000/10000 [05:33<00:00, 29.99it/s]\n",
      "Only one chain was sampled, this makes it impossible to run some convergence checks\n"
     ]
    },
    {
     "name": "stdout",
     "output_type": "stream",
     "text": [
      "  Fitting model 2 of 7...\n"
     ]
    },
    {
     "name": "stderr",
     "output_type": "stream",
     "text": [
      "Sequential sampling (1 chains in 1 job)\n",
      "CompoundStep\n",
      ">Metropolis: [tau]\n",
      ">Metropolis: [s]\n",
      ">Metropolis: [gamma]\n",
      ">Metropolis: [v]\n",
      "100%|█████████████████████████████████████| 10000/10000 [05:33<00:00, 30.00it/s]\n",
      "Only one chain was sampled, this makes it impossible to run some convergence checks\n"
     ]
    },
    {
     "name": "stdout",
     "output_type": "stream",
     "text": [
      "  Fitting model 3 of 7...\n"
     ]
    },
    {
     "name": "stderr",
     "output_type": "stream",
     "text": [
      "Sequential sampling (1 chains in 1 job)\n",
      "CompoundStep\n",
      ">Metropolis: [tau]\n",
      ">Metropolis: [s]\n",
      ">Metropolis: [gamma]\n",
      ">Metropolis: [v]\n",
      "100%|█████████████████████████████████████| 10000/10000 [05:32<00:00, 30.12it/s]\n",
      "Only one chain was sampled, this makes it impossible to run some convergence checks\n"
     ]
    },
    {
     "name": "stdout",
     "output_type": "stream",
     "text": [
      "  Fitting model 4 of 7...\n"
     ]
    },
    {
     "name": "stderr",
     "output_type": "stream",
     "text": [
      "Sequential sampling (1 chains in 1 job)\n",
      "CompoundStep\n",
      ">Metropolis: [tau]\n",
      ">Metropolis: [s]\n",
      ">Metropolis: [gamma]\n",
      ">Metropolis: [v]\n",
      "100%|█████████████████████████████████████| 10000/10000 [05:31<00:00, 30.17it/s]\n",
      "Only one chain was sampled, this makes it impossible to run some convergence checks\n"
     ]
    },
    {
     "name": "stdout",
     "output_type": "stream",
     "text": [
      "  Fitting model 5 of 7...\n"
     ]
    },
    {
     "name": "stderr",
     "output_type": "stream",
     "text": [
      "Sequential sampling (1 chains in 1 job)\n",
      "CompoundStep\n",
      ">Metropolis: [tau]\n",
      ">Metropolis: [s]\n",
      ">Metropolis: [gamma]\n",
      ">Metropolis: [v]\n",
      "100%|█████████████████████████████████████| 10000/10000 [05:32<00:00, 30.08it/s]\n",
      "Only one chain was sampled, this makes it impossible to run some convergence checks\n"
     ]
    },
    {
     "name": "stdout",
     "output_type": "stream",
     "text": [
      "  Fitting model 6 of 7...\n"
     ]
    },
    {
     "name": "stderr",
     "output_type": "stream",
     "text": [
      "Sequential sampling (1 chains in 1 job)\n",
      "CompoundStep\n",
      ">Metropolis: [tau]\n",
      ">Metropolis: [s]\n",
      ">Metropolis: [gamma]\n",
      ">Metropolis: [v]\n",
      "100%|█████████████████████████████████████| 10000/10000 [05:30<00:00, 30.26it/s]\n",
      "Only one chain was sampled, this makes it impossible to run some convergence checks\n"
     ]
    },
    {
     "name": "stdout",
     "output_type": "stream",
     "text": [
      "  Fitting model 7 of 7...\n"
     ]
    },
    {
     "name": "stderr",
     "output_type": "stream",
     "text": [
      "Sequential sampling (1 chains in 1 job)\n",
      "CompoundStep\n",
      ">Metropolis: [tau]\n",
      ">Metropolis: [s]\n",
      ">Metropolis: [gamma]\n",
      ">Metropolis: [v]\n",
      "100%|█████████████████████████████████████| 10000/10000 [05:37<00:00, 29.64it/s]\n",
      "Only one chain was sampled, this makes it impossible to run some convergence checks\n"
     ]
    },
    {
     "name": "stdout",
     "output_type": "stream",
     "text": [
      "/!\\ Automatically setting parameter precision...\n"
     ]
    }
   ],
   "source": [
    "# fit model to the data\n",
    "model_mult.fit(tune=n_tune, draws=n_draws, chains=1)"
   ]
  },
  {
   "cell_type": "code",
   "execution_count": 8,
   "metadata": {},
   "outputs": [
    {
     "data": {
      "text/html": [
       "<div>\n",
       "<style scoped>\n",
       "    .dataframe tbody tr th:only-of-type {\n",
       "        vertical-align: middle;\n",
       "    }\n",
       "\n",
       "    .dataframe tbody tr th {\n",
       "        vertical-align: top;\n",
       "    }\n",
       "\n",
       "    .dataframe thead th {\n",
       "        text-align: right;\n",
       "    }\n",
       "</style>\n",
       "<table border=\"1\" class=\"dataframe\">\n",
       "  <thead>\n",
       "    <tr style=\"text-align: right;\">\n",
       "      <th></th>\n",
       "      <th>gamma</th>\n",
       "      <th>gamma_hpd_2.5</th>\n",
       "      <th>gamma_hpd_97.5</th>\n",
       "      <th>s</th>\n",
       "      <th>s_hpd_2.5</th>\n",
       "      <th>s_hpd_97.5</th>\n",
       "      <th>subject</th>\n",
       "      <th>t0</th>\n",
       "      <th>t0_hpd_2.5</th>\n",
       "      <th>t0_hpd_97.5</th>\n",
       "      <th>tau</th>\n",
       "      <th>tau_hpd_2.5</th>\n",
       "      <th>tau_hpd_97.5</th>\n",
       "      <th>v</th>\n",
       "      <th>v_hpd_2.5</th>\n",
       "      <th>v_hpd_97.5</th>\n",
       "    </tr>\n",
       "  </thead>\n",
       "  <tbody>\n",
       "    <tr>\n",
       "      <th>0</th>\n",
       "      <td>-0.575</td>\n",
       "      <td>-0.586444</td>\n",
       "      <td>-0.559058</td>\n",
       "      <td>0.144</td>\n",
       "      <td>0.142606</td>\n",
       "      <td>0.145062</td>\n",
       "      <td>0</td>\n",
       "      <td>0.0</td>\n",
       "      <td>0.0</td>\n",
       "      <td>0.0</td>\n",
       "      <td>0.260</td>\n",
       "      <td>0.255940</td>\n",
       "      <td>0.265268</td>\n",
       "      <td>1.965</td>\n",
       "      <td>1.958007</td>\n",
       "      <td>1.970603</td>\n",
       "    </tr>\n",
       "    <tr>\n",
       "      <th>1</th>\n",
       "      <td>-0.095</td>\n",
       "      <td>-0.114142</td>\n",
       "      <td>-0.077405</td>\n",
       "      <td>0.163</td>\n",
       "      <td>0.161937</td>\n",
       "      <td>0.164633</td>\n",
       "      <td>1</td>\n",
       "      <td>0.0</td>\n",
       "      <td>0.0</td>\n",
       "      <td>0.0</td>\n",
       "      <td>0.267</td>\n",
       "      <td>0.262790</td>\n",
       "      <td>0.271649</td>\n",
       "      <td>2.104</td>\n",
       "      <td>2.097492</td>\n",
       "      <td>2.109771</td>\n",
       "    </tr>\n",
       "    <tr>\n",
       "      <th>2</th>\n",
       "      <td>-0.000</td>\n",
       "      <td>-0.002169</td>\n",
       "      <td>0.017046</td>\n",
       "      <td>0.185</td>\n",
       "      <td>0.183646</td>\n",
       "      <td>0.186770</td>\n",
       "      <td>2</td>\n",
       "      <td>0.0</td>\n",
       "      <td>0.0</td>\n",
       "      <td>0.0</td>\n",
       "      <td>0.284</td>\n",
       "      <td>0.279446</td>\n",
       "      <td>0.288319</td>\n",
       "      <td>2.257</td>\n",
       "      <td>2.251786</td>\n",
       "      <td>2.264152</td>\n",
       "    </tr>\n",
       "    <tr>\n",
       "      <th>3</th>\n",
       "      <td>0.125</td>\n",
       "      <td>0.107875</td>\n",
       "      <td>0.137448</td>\n",
       "      <td>0.208</td>\n",
       "      <td>0.205774</td>\n",
       "      <td>0.209161</td>\n",
       "      <td>3</td>\n",
       "      <td>0.0</td>\n",
       "      <td>0.0</td>\n",
       "      <td>0.0</td>\n",
       "      <td>0.307</td>\n",
       "      <td>0.302017</td>\n",
       "      <td>0.311832</td>\n",
       "      <td>2.421</td>\n",
       "      <td>2.414321</td>\n",
       "      <td>2.428038</td>\n",
       "    </tr>\n",
       "    <tr>\n",
       "      <th>4</th>\n",
       "      <td>0.240</td>\n",
       "      <td>0.226805</td>\n",
       "      <td>0.253588</td>\n",
       "      <td>0.230</td>\n",
       "      <td>0.228044</td>\n",
       "      <td>0.231583</td>\n",
       "      <td>4</td>\n",
       "      <td>0.0</td>\n",
       "      <td>0.0</td>\n",
       "      <td>0.0</td>\n",
       "      <td>0.326</td>\n",
       "      <td>0.321074</td>\n",
       "      <td>0.331792</td>\n",
       "      <td>2.595</td>\n",
       "      <td>2.586380</td>\n",
       "      <td>2.601244</td>\n",
       "    </tr>\n",
       "    <tr>\n",
       "      <th>5</th>\n",
       "      <td>0.589</td>\n",
       "      <td>0.578379</td>\n",
       "      <td>0.597438</td>\n",
       "      <td>0.289</td>\n",
       "      <td>0.288440</td>\n",
       "      <td>0.290892</td>\n",
       "      <td>5</td>\n",
       "      <td>0.0</td>\n",
       "      <td>0.0</td>\n",
       "      <td>0.0</td>\n",
       "      <td>0.346</td>\n",
       "      <td>0.339844</td>\n",
       "      <td>0.350848</td>\n",
       "      <td>3.001</td>\n",
       "      <td>2.991220</td>\n",
       "      <td>3.009531</td>\n",
       "    </tr>\n",
       "    <tr>\n",
       "      <th>6</th>\n",
       "      <td>0.817</td>\n",
       "      <td>0.810139</td>\n",
       "      <td>0.825483</td>\n",
       "      <td>0.433</td>\n",
       "      <td>0.430440</td>\n",
       "      <td>0.437419</td>\n",
       "      <td>6</td>\n",
       "      <td>0.0</td>\n",
       "      <td>0.0</td>\n",
       "      <td>0.0</td>\n",
       "      <td>0.458</td>\n",
       "      <td>0.453238</td>\n",
       "      <td>0.471352</td>\n",
       "      <td>3.407</td>\n",
       "      <td>3.388760</td>\n",
       "      <td>3.420411</td>\n",
       "    </tr>\n",
       "  </tbody>\n",
       "</table>\n",
       "</div>"
      ],
      "text/plain": [
       "   gamma  gamma_hpd_2.5  gamma_hpd_97.5      s  s_hpd_2.5  s_hpd_97.5  \\\n",
       "0 -0.575      -0.586444       -0.559058  0.144   0.142606    0.145062   \n",
       "1 -0.095      -0.114142       -0.077405  0.163   0.161937    0.164633   \n",
       "2 -0.000      -0.002169        0.017046  0.185   0.183646    0.186770   \n",
       "3  0.125       0.107875        0.137448  0.208   0.205774    0.209161   \n",
       "4  0.240       0.226805        0.253588  0.230   0.228044    0.231583   \n",
       "5  0.589       0.578379        0.597438  0.289   0.288440    0.290892   \n",
       "6  0.817       0.810139        0.825483  0.433   0.430440    0.437419   \n",
       "\n",
       "   subject   t0  t0_hpd_2.5  t0_hpd_97.5    tau  tau_hpd_2.5  tau_hpd_97.5  \\\n",
       "0        0  0.0         0.0          0.0  0.260     0.255940      0.265268   \n",
       "1        1  0.0         0.0          0.0  0.267     0.262790      0.271649   \n",
       "2        2  0.0         0.0          0.0  0.284     0.279446      0.288319   \n",
       "3        3  0.0         0.0          0.0  0.307     0.302017      0.311832   \n",
       "4        4  0.0         0.0          0.0  0.326     0.321074      0.331792   \n",
       "5        5  0.0         0.0          0.0  0.346     0.339844      0.350848   \n",
       "6        6  0.0         0.0          0.0  0.458     0.453238      0.471352   \n",
       "\n",
       "       v  v_hpd_2.5  v_hpd_97.5  \n",
       "0  1.965   1.958007    1.970603  \n",
       "1  2.104   2.097492    2.109771  \n",
       "2  2.257   2.251786    2.264152  \n",
       "3  2.421   2.414321    2.428038  \n",
       "4  2.595   2.586380    2.601244  \n",
       "5  3.001   2.991220    3.009531  \n",
       "6  3.407   3.388760    3.420411  "
      ]
     },
     "execution_count": 8,
     "metadata": {},
     "output_type": "execute_result"
    }
   ],
   "source": [
    "model_mult.estimates"
   ]
  },
  {
   "cell_type": "markdown",
   "metadata": {},
   "source": [
    "## Additive Drift Term\n"
   ]
  },
  {
   "cell_type": "markdown",
   "metadata": {},
   "source": [
    "### Parameter Estimation\n",
    "This section estimates GLAM parameters using a model in which gamma is treated as additive. This is changed by setting the 'drift' argument to 'additive' when the model object is initialized"
   ]
  },
  {
   "cell_type": "code",
   "execution_count": 9,
   "metadata": {},
   "outputs": [],
   "source": [
    "# set random seed for replicability\n",
    "np.random.seed(8)\n",
    "# initialize GLAM model object with the even-numbered trials\n",
    "model_add = gb.GLAM(data=data, name='add',drift='additive')"
   ]
  },
  {
   "cell_type": "code",
   "execution_count": 10,
   "metadata": {},
   "outputs": [
    {
     "name": "stdout",
     "output_type": "stream",
     "text": [
      "Generating single subject models for 7 subjects...\n",
      "using additive drift\n",
      "using additive drift\n",
      "using additive drift\n",
      "using additive drift\n",
      "using additive drift\n",
      "using additive drift\n",
      "using additive drift\n",
      "using additive drift\n",
      "using additive drift\n",
      "using additive drift\n",
      "using additive drift\n",
      "using additive drift\n",
      "using additive drift\n",
      "using additive drift\n",
      "using additive drift\n",
      "using additive drift\n",
      "using additive drift\n",
      "using additive drift\n",
      "using additive drift\n",
      "using additive drift\n",
      "using additive drift\n"
     ]
    }
   ],
   "source": [
    "# define model. \n",
    "model_add.make_model(kind=\"individual\", t0_val=0, gamma_bounds=(-100,100), error_weight=error_weight)"
   ]
  },
  {
   "cell_type": "code",
   "execution_count": 11,
   "metadata": {},
   "outputs": [
    {
     "name": "stdout",
     "output_type": "stream",
     "text": [
      "Fitting 7 model(s) using MCMC...\n",
      "  Fitting model 1 of 7...\n"
     ]
    },
    {
     "name": "stderr",
     "output_type": "stream",
     "text": [
      "Sequential sampling (1 chains in 1 job)\n",
      "CompoundStep\n",
      ">Metropolis: [tau]\n",
      ">Metropolis: [s]\n",
      ">Metropolis: [gamma]\n",
      ">Metropolis: [v]\n",
      "100%|█████████████████████████████████████| 10000/10000 [05:27<00:00, 30.50it/s]\n",
      "Only one chain was sampled, this makes it impossible to run some convergence checks\n"
     ]
    },
    {
     "name": "stdout",
     "output_type": "stream",
     "text": [
      "  Fitting model 2 of 7...\n"
     ]
    },
    {
     "name": "stderr",
     "output_type": "stream",
     "text": [
      "Sequential sampling (1 chains in 1 job)\n",
      "CompoundStep\n",
      ">Metropolis: [tau]\n",
      ">Metropolis: [s]\n",
      ">Metropolis: [gamma]\n",
      ">Metropolis: [v]\n",
      "100%|█████████████████████████████████████| 10000/10000 [05:46<00:00, 28.90it/s]\n",
      "Only one chain was sampled, this makes it impossible to run some convergence checks\n"
     ]
    },
    {
     "name": "stdout",
     "output_type": "stream",
     "text": [
      "  Fitting model 3 of 7...\n"
     ]
    },
    {
     "name": "stderr",
     "output_type": "stream",
     "text": [
      "Sequential sampling (1 chains in 1 job)\n",
      "CompoundStep\n",
      ">Metropolis: [tau]\n",
      ">Metropolis: [s]\n",
      ">Metropolis: [gamma]\n",
      ">Metropolis: [v]\n",
      "100%|█████████████████████████████████████| 10000/10000 [05:43<00:00, 29.12it/s]\n",
      "Only one chain was sampled, this makes it impossible to run some convergence checks\n"
     ]
    },
    {
     "name": "stdout",
     "output_type": "stream",
     "text": [
      "  Fitting model 4 of 7...\n"
     ]
    },
    {
     "name": "stderr",
     "output_type": "stream",
     "text": [
      "Sequential sampling (1 chains in 1 job)\n",
      "CompoundStep\n",
      ">Metropolis: [tau]\n",
      ">Metropolis: [s]\n",
      ">Metropolis: [gamma]\n",
      ">Metropolis: [v]\n",
      "100%|█████████████████████████████████████| 10000/10000 [05:46<00:00, 28.88it/s]\n",
      "Only one chain was sampled, this makes it impossible to run some convergence checks\n"
     ]
    },
    {
     "name": "stdout",
     "output_type": "stream",
     "text": [
      "  Fitting model 5 of 7...\n"
     ]
    },
    {
     "name": "stderr",
     "output_type": "stream",
     "text": [
      "Sequential sampling (1 chains in 1 job)\n",
      "CompoundStep\n",
      ">Metropolis: [tau]\n",
      ">Metropolis: [s]\n",
      ">Metropolis: [gamma]\n",
      ">Metropolis: [v]\n",
      "100%|█████████████████████████████████████| 10000/10000 [05:47<00:00, 28.82it/s]\n",
      "Only one chain was sampled, this makes it impossible to run some convergence checks\n"
     ]
    },
    {
     "name": "stdout",
     "output_type": "stream",
     "text": [
      "  Fitting model 6 of 7...\n"
     ]
    },
    {
     "name": "stderr",
     "output_type": "stream",
     "text": [
      "Sequential sampling (1 chains in 1 job)\n",
      "CompoundStep\n",
      ">Metropolis: [tau]\n",
      ">Metropolis: [s]\n",
      ">Metropolis: [gamma]\n",
      ">Metropolis: [v]\n",
      "100%|█████████████████████████████████████| 10000/10000 [05:48<00:00, 28.66it/s]\n",
      "Only one chain was sampled, this makes it impossible to run some convergence checks\n"
     ]
    },
    {
     "name": "stdout",
     "output_type": "stream",
     "text": [
      "  Fitting model 7 of 7...\n"
     ]
    },
    {
     "name": "stderr",
     "output_type": "stream",
     "text": [
      "Sequential sampling (1 chains in 1 job)\n",
      "CompoundStep\n",
      ">Metropolis: [tau]\n",
      ">Metropolis: [s]\n",
      ">Metropolis: [gamma]\n",
      ">Metropolis: [v]\n",
      "100%|█████████████████████████████████████| 10000/10000 [05:39<00:00, 29.42it/s]\n",
      "Only one chain was sampled, this makes it impossible to run some convergence checks\n"
     ]
    },
    {
     "name": "stdout",
     "output_type": "stream",
     "text": [
      "/!\\ Automatically setting parameter precision...\n"
     ]
    }
   ],
   "source": [
    "# fit model to the data\n",
    "model_add.fit(tune=n_tune, draws=n_draws, chains=1)"
   ]
  },
  {
   "cell_type": "code",
   "execution_count": 12,
   "metadata": {},
   "outputs": [
    {
     "data": {
      "text/html": [
       "<div>\n",
       "<style scoped>\n",
       "    .dataframe tbody tr th:only-of-type {\n",
       "        vertical-align: middle;\n",
       "    }\n",
       "\n",
       "    .dataframe tbody tr th {\n",
       "        vertical-align: top;\n",
       "    }\n",
       "\n",
       "    .dataframe thead th {\n",
       "        text-align: right;\n",
       "    }\n",
       "</style>\n",
       "<table border=\"1\" class=\"dataframe\">\n",
       "  <thead>\n",
       "    <tr style=\"text-align: right;\">\n",
       "      <th></th>\n",
       "      <th>gamma</th>\n",
       "      <th>gamma_hpd_2.5</th>\n",
       "      <th>gamma_hpd_97.5</th>\n",
       "      <th>s</th>\n",
       "      <th>s_hpd_2.5</th>\n",
       "      <th>s_hpd_97.5</th>\n",
       "      <th>subject</th>\n",
       "      <th>t0</th>\n",
       "      <th>t0_hpd_2.5</th>\n",
       "      <th>t0_hpd_97.5</th>\n",
       "      <th>tau</th>\n",
       "      <th>tau_hpd_2.5</th>\n",
       "      <th>tau_hpd_97.5</th>\n",
       "      <th>v</th>\n",
       "      <th>v_hpd_2.5</th>\n",
       "      <th>v_hpd_97.5</th>\n",
       "    </tr>\n",
       "  </thead>\n",
       "  <tbody>\n",
       "    <tr>\n",
       "      <th>0</th>\n",
       "      <td>12.704</td>\n",
       "      <td>12.106613</td>\n",
       "      <td>13.050928</td>\n",
       "      <td>0.147</td>\n",
       "      <td>0.145593</td>\n",
       "      <td>0.148110</td>\n",
       "      <td>0</td>\n",
       "      <td>0.0</td>\n",
       "      <td>0.0</td>\n",
       "      <td>0.0</td>\n",
       "      <td>0.083</td>\n",
       "      <td>0.079994</td>\n",
       "      <td>0.085783</td>\n",
       "      <td>1.954</td>\n",
       "      <td>1.946893</td>\n",
       "      <td>1.958898</td>\n",
       "    </tr>\n",
       "    <tr>\n",
       "      <th>1</th>\n",
       "      <td>9.097</td>\n",
       "      <td>8.810646</td>\n",
       "      <td>9.464387</td>\n",
       "      <td>0.167</td>\n",
       "      <td>0.165456</td>\n",
       "      <td>0.168103</td>\n",
       "      <td>1</td>\n",
       "      <td>0.0</td>\n",
       "      <td>0.0</td>\n",
       "      <td>0.0</td>\n",
       "      <td>0.108</td>\n",
       "      <td>0.104718</td>\n",
       "      <td>0.110611</td>\n",
       "      <td>2.100</td>\n",
       "      <td>2.094563</td>\n",
       "      <td>2.106511</td>\n",
       "    </tr>\n",
       "    <tr>\n",
       "      <th>2</th>\n",
       "      <td>6.469</td>\n",
       "      <td>6.219430</td>\n",
       "      <td>6.635105</td>\n",
       "      <td>0.189</td>\n",
       "      <td>0.187753</td>\n",
       "      <td>0.190849</td>\n",
       "      <td>2</td>\n",
       "      <td>0.0</td>\n",
       "      <td>0.0</td>\n",
       "      <td>0.0</td>\n",
       "      <td>0.140</td>\n",
       "      <td>0.136299</td>\n",
       "      <td>0.143134</td>\n",
       "      <td>2.258</td>\n",
       "      <td>2.251593</td>\n",
       "      <td>2.265412</td>\n",
       "    </tr>\n",
       "    <tr>\n",
       "      <th>3</th>\n",
       "      <td>4.647</td>\n",
       "      <td>4.534407</td>\n",
       "      <td>4.860184</td>\n",
       "      <td>0.213</td>\n",
       "      <td>0.210735</td>\n",
       "      <td>0.214395</td>\n",
       "      <td>3</td>\n",
       "      <td>0.0</td>\n",
       "      <td>0.0</td>\n",
       "      <td>0.0</td>\n",
       "      <td>0.174</td>\n",
       "      <td>0.170237</td>\n",
       "      <td>0.177429</td>\n",
       "      <td>2.424</td>\n",
       "      <td>2.417610</td>\n",
       "      <td>2.432354</td>\n",
       "    </tr>\n",
       "    <tr>\n",
       "      <th>4</th>\n",
       "      <td>3.440</td>\n",
       "      <td>3.328587</td>\n",
       "      <td>3.550506</td>\n",
       "      <td>0.235</td>\n",
       "      <td>0.234011</td>\n",
       "      <td>0.237313</td>\n",
       "      <td>4</td>\n",
       "      <td>0.0</td>\n",
       "      <td>0.0</td>\n",
       "      <td>0.0</td>\n",
       "      <td>0.203</td>\n",
       "      <td>0.199641</td>\n",
       "      <td>0.208144</td>\n",
       "      <td>2.604</td>\n",
       "      <td>2.595938</td>\n",
       "      <td>2.612027</td>\n",
       "    </tr>\n",
       "    <tr>\n",
       "      <th>5</th>\n",
       "      <td>1.246</td>\n",
       "      <td>1.206676</td>\n",
       "      <td>1.304512</td>\n",
       "      <td>0.293</td>\n",
       "      <td>0.291279</td>\n",
       "      <td>0.293870</td>\n",
       "      <td>5</td>\n",
       "      <td>0.0</td>\n",
       "      <td>0.0</td>\n",
       "      <td>0.0</td>\n",
       "      <td>0.272</td>\n",
       "      <td>0.267191</td>\n",
       "      <td>0.276883</td>\n",
       "      <td>3.021</td>\n",
       "      <td>3.008424</td>\n",
       "      <td>3.028048</td>\n",
       "    </tr>\n",
       "    <tr>\n",
       "      <th>6</th>\n",
       "      <td>0.425</td>\n",
       "      <td>0.391422</td>\n",
       "      <td>0.450579</td>\n",
       "      <td>0.440</td>\n",
       "      <td>0.436824</td>\n",
       "      <td>0.443917</td>\n",
       "      <td>6</td>\n",
       "      <td>0.0</td>\n",
       "      <td>0.0</td>\n",
       "      <td>0.0</td>\n",
       "      <td>0.416</td>\n",
       "      <td>0.407345</td>\n",
       "      <td>0.424215</td>\n",
       "      <td>3.404</td>\n",
       "      <td>3.388601</td>\n",
       "      <td>3.421179</td>\n",
       "    </tr>\n",
       "  </tbody>\n",
       "</table>\n",
       "</div>"
      ],
      "text/plain": [
       "    gamma  gamma_hpd_2.5  gamma_hpd_97.5      s  s_hpd_2.5  s_hpd_97.5  \\\n",
       "0  12.704      12.106613       13.050928  0.147   0.145593    0.148110   \n",
       "1   9.097       8.810646        9.464387  0.167   0.165456    0.168103   \n",
       "2   6.469       6.219430        6.635105  0.189   0.187753    0.190849   \n",
       "3   4.647       4.534407        4.860184  0.213   0.210735    0.214395   \n",
       "4   3.440       3.328587        3.550506  0.235   0.234011    0.237313   \n",
       "5   1.246       1.206676        1.304512  0.293   0.291279    0.293870   \n",
       "6   0.425       0.391422        0.450579  0.440   0.436824    0.443917   \n",
       "\n",
       "   subject   t0  t0_hpd_2.5  t0_hpd_97.5    tau  tau_hpd_2.5  tau_hpd_97.5  \\\n",
       "0        0  0.0         0.0          0.0  0.083     0.079994      0.085783   \n",
       "1        1  0.0         0.0          0.0  0.108     0.104718      0.110611   \n",
       "2        2  0.0         0.0          0.0  0.140     0.136299      0.143134   \n",
       "3        3  0.0         0.0          0.0  0.174     0.170237      0.177429   \n",
       "4        4  0.0         0.0          0.0  0.203     0.199641      0.208144   \n",
       "5        5  0.0         0.0          0.0  0.272     0.267191      0.276883   \n",
       "6        6  0.0         0.0          0.0  0.416     0.407345      0.424215   \n",
       "\n",
       "       v  v_hpd_2.5  v_hpd_97.5  \n",
       "0  1.954   1.946893    1.958898  \n",
       "1  2.100   2.094563    2.106511  \n",
       "2  2.258   2.251593    2.265412  \n",
       "3  2.424   2.417610    2.432354  \n",
       "4  2.604   2.595938    2.612027  \n",
       "5  3.021   3.008424    3.028048  \n",
       "6  3.404   3.388601    3.421179  "
      ]
     },
     "execution_count": 12,
     "metadata": {},
     "output_type": "execute_result"
    }
   ],
   "source": [
    "# Show parameter estimates\n",
    "# Monkey C is row 0 and Monkey K is row 1.\n",
    "model_add.estimates\n"
   ]
  },
  {
   "cell_type": "markdown",
   "metadata": {},
   "source": [
    "# Model Comparison\n",
    "The following section compares the multiplicative and additive models for each level of ndt truncation"
   ]
  },
  {
   "cell_type": "code",
   "execution_count": null,
   "metadata": {},
   "outputs": [],
   "source": [
    "modelComp = gb.analysis.compare_models(models=[model_mult, model_add])\n",
    "ndts = data.ndt.unique()\n",
    "for n, ndt in enumerate(ndts):\n",
    "    print(ndt)\n",
    "    modelComp['subject'].loc[(modelComp['subject']==n)]= ndt\n"
   ]
  },
  {
   "cell_type": "code",
   "execution_count": 15,
   "metadata": {},
   "outputs": [
    {
     "data": {
      "text/html": [
       "<div>\n",
       "<style scoped>\n",
       "    .dataframe tbody tr th:only-of-type {\n",
       "        vertical-align: middle;\n",
       "    }\n",
       "\n",
       "    .dataframe tbody tr th {\n",
       "        vertical-align: top;\n",
       "    }\n",
       "\n",
       "    .dataframe thead th {\n",
       "        text-align: right;\n",
       "    }\n",
       "</style>\n",
       "<table border=\"1\" class=\"dataframe\">\n",
       "  <thead>\n",
       "    <tr style=\"text-align: right;\">\n",
       "      <th></th>\n",
       "      <th>subject</th>\n",
       "      <th>model</th>\n",
       "      <th>WAIC</th>\n",
       "      <th>pWAIC</th>\n",
       "      <th>dWAIC</th>\n",
       "      <th>weight</th>\n",
       "      <th>SE</th>\n",
       "      <th>dSE</th>\n",
       "      <th>var_warn</th>\n",
       "    </tr>\n",
       "  </thead>\n",
       "  <tbody>\n",
       "    <tr>\n",
       "      <th>0</th>\n",
       "      <td>0.0</td>\n",
       "      <td>mult</td>\n",
       "      <td>-40791.4</td>\n",
       "      <td>4.08</td>\n",
       "      <td>0</td>\n",
       "      <td>0.64</td>\n",
       "      <td>343.38</td>\n",
       "      <td>0</td>\n",
       "      <td>0</td>\n",
       "    </tr>\n",
       "    <tr>\n",
       "      <th>1</th>\n",
       "      <td>0.0</td>\n",
       "      <td>add</td>\n",
       "      <td>-40040</td>\n",
       "      <td>4.21</td>\n",
       "      <td>751.34</td>\n",
       "      <td>0.36</td>\n",
       "      <td>338.1</td>\n",
       "      <td>114.12</td>\n",
       "      <td>0</td>\n",
       "    </tr>\n",
       "    <tr>\n",
       "      <th>2</th>\n",
       "      <td>50.0</td>\n",
       "      <td>mult</td>\n",
       "      <td>-36660.8</td>\n",
       "      <td>4.36</td>\n",
       "      <td>0</td>\n",
       "      <td>0.78</td>\n",
       "      <td>341.39</td>\n",
       "      <td>0</td>\n",
       "      <td>0</td>\n",
       "    </tr>\n",
       "    <tr>\n",
       "      <th>3</th>\n",
       "      <td>50.0</td>\n",
       "      <td>add</td>\n",
       "      <td>-35839.8</td>\n",
       "      <td>3.98</td>\n",
       "      <td>821.01</td>\n",
       "      <td>0.22</td>\n",
       "      <td>341.39</td>\n",
       "      <td>79.75</td>\n",
       "      <td>0</td>\n",
       "    </tr>\n",
       "    <tr>\n",
       "      <th>4</th>\n",
       "      <td>100.0</td>\n",
       "      <td>mult</td>\n",
       "      <td>-33072.3</td>\n",
       "      <td>3.56</td>\n",
       "      <td>0</td>\n",
       "      <td>1</td>\n",
       "      <td>344.95</td>\n",
       "      <td>0</td>\n",
       "      <td>0</td>\n",
       "    </tr>\n",
       "    <tr>\n",
       "      <th>5</th>\n",
       "      <td>100.0</td>\n",
       "      <td>add</td>\n",
       "      <td>-31762.6</td>\n",
       "      <td>4.24</td>\n",
       "      <td>1309.69</td>\n",
       "      <td>0</td>\n",
       "      <td>344.65</td>\n",
       "      <td>65</td>\n",
       "      <td>0</td>\n",
       "    </tr>\n",
       "    <tr>\n",
       "      <th>6</th>\n",
       "      <td>150.0</td>\n",
       "      <td>mult</td>\n",
       "      <td>-30849.5</td>\n",
       "      <td>4.21</td>\n",
       "      <td>0</td>\n",
       "      <td>1</td>\n",
       "      <td>353.52</td>\n",
       "      <td>0</td>\n",
       "      <td>0</td>\n",
       "    </tr>\n",
       "    <tr>\n",
       "      <th>7</th>\n",
       "      <td>150.0</td>\n",
       "      <td>add</td>\n",
       "      <td>-29068.9</td>\n",
       "      <td>4.53</td>\n",
       "      <td>1780.53</td>\n",
       "      <td>0</td>\n",
       "      <td>352.06</td>\n",
       "      <td>57.99</td>\n",
       "      <td>0</td>\n",
       "    </tr>\n",
       "    <tr>\n",
       "      <th>8</th>\n",
       "      <td>200.0</td>\n",
       "      <td>mult</td>\n",
       "      <td>-30168.1</td>\n",
       "      <td>4.34</td>\n",
       "      <td>0</td>\n",
       "      <td>1</td>\n",
       "      <td>368.11</td>\n",
       "      <td>0</td>\n",
       "      <td>0</td>\n",
       "    </tr>\n",
       "    <tr>\n",
       "      <th>9</th>\n",
       "      <td>200.0</td>\n",
       "      <td>add</td>\n",
       "      <td>-27779</td>\n",
       "      <td>4.46</td>\n",
       "      <td>2389.16</td>\n",
       "      <td>0</td>\n",
       "      <td>366.07</td>\n",
       "      <td>59.32</td>\n",
       "      <td>0</td>\n",
       "    </tr>\n",
       "    <tr>\n",
       "      <th>10</th>\n",
       "      <td>300.0</td>\n",
       "      <td>mult</td>\n",
       "      <td>-26679.9</td>\n",
       "      <td>4.66</td>\n",
       "      <td>0</td>\n",
       "      <td>1</td>\n",
       "      <td>390.34</td>\n",
       "      <td>0</td>\n",
       "      <td>0</td>\n",
       "    </tr>\n",
       "    <tr>\n",
       "      <th>11</th>\n",
       "      <td>300.0</td>\n",
       "      <td>add</td>\n",
       "      <td>-24203.6</td>\n",
       "      <td>5.81</td>\n",
       "      <td>2476.29</td>\n",
       "      <td>0</td>\n",
       "      <td>392.27</td>\n",
       "      <td>64.28</td>\n",
       "      <td>0</td>\n",
       "    </tr>\n",
       "    <tr>\n",
       "      <th>12</th>\n",
       "      <td>400.0</td>\n",
       "      <td>mult</td>\n",
       "      <td>-24137.5</td>\n",
       "      <td>4.12</td>\n",
       "      <td>0</td>\n",
       "      <td>1</td>\n",
       "      <td>363.2</td>\n",
       "      <td>0</td>\n",
       "      <td>0</td>\n",
       "    </tr>\n",
       "    <tr>\n",
       "      <th>13</th>\n",
       "      <td>400.0</td>\n",
       "      <td>add</td>\n",
       "      <td>-23070.5</td>\n",
       "      <td>4.05</td>\n",
       "      <td>1067</td>\n",
       "      <td>0</td>\n",
       "      <td>361.39</td>\n",
       "      <td>38.49</td>\n",
       "      <td>0</td>\n",
       "    </tr>\n",
       "  </tbody>\n",
       "</table>\n",
       "</div>"
      ],
      "text/plain": [
       "    subject model     WAIC pWAIC    dWAIC weight      SE     dSE var_warn\n",
       "0       0.0  mult -40791.4  4.08        0   0.64  343.38       0        0\n",
       "1       0.0   add   -40040  4.21   751.34   0.36   338.1  114.12        0\n",
       "2      50.0  mult -36660.8  4.36        0   0.78  341.39       0        0\n",
       "3      50.0   add -35839.8  3.98   821.01   0.22  341.39   79.75        0\n",
       "4     100.0  mult -33072.3  3.56        0      1  344.95       0        0\n",
       "5     100.0   add -31762.6  4.24  1309.69      0  344.65      65        0\n",
       "6     150.0  mult -30849.5  4.21        0      1  353.52       0        0\n",
       "7     150.0   add -29068.9  4.53  1780.53      0  352.06   57.99        0\n",
       "8     200.0  mult -30168.1  4.34        0      1  368.11       0        0\n",
       "9     200.0   add   -27779  4.46  2389.16      0  366.07   59.32        0\n",
       "10    300.0  mult -26679.9  4.66        0      1  390.34       0        0\n",
       "11    300.0   add -24203.6  5.81  2476.29      0  392.27   64.28        0\n",
       "12    400.0  mult -24137.5  4.12        0      1   363.2       0        0\n",
       "13    400.0   add -23070.5  4.05     1067      0  361.39   38.49        0"
      ]
     },
     "execution_count": 15,
     "metadata": {},
     "output_type": "execute_result"
    }
   ],
   "source": [
    "modelComp"
   ]
  }
 ],
 "metadata": {
  "kernelspec": {
   "display_name": "Python 3 (ipykernel)",
   "language": "python",
   "name": "python3"
  },
  "language_info": {
   "codemirror_mode": {
    "name": "ipython",
    "version": 3
   },
   "file_extension": ".py",
   "mimetype": "text/x-python",
   "name": "python",
   "nbconvert_exporter": "python",
   "pygments_lexer": "ipython3",
   "version": "3.7.13"
  }
 },
 "nbformat": 4,
 "nbformat_minor": 4
}
