{
 "cells": [
  {
   "cell_type": "markdown",
   "metadata": {},
   "source": [
    "# Relative GLAM Fit\n",
    "This notebook runs the runs two versions of the GLAM: one that allows gamma to be a free parameter (BiasModel) and one with gamma held at 1 (NoBiasModel). It also runs a model comparision to determine which of the two variants is a better fit to the data"
   ]
  },
  {
   "cell_type": "markdown",
   "metadata": {},
   "source": [
    "## Housekeeping\n",
    "### Load Necessary Libraries"
   ]
  },
  {
   "cell_type": "code",
   "execution_count": 1,
   "metadata": {},
   "outputs": [
    {
     "data": {
      "text/plain": [
       "'/usr/bin/clang++'"
      ]
     },
     "execution_count": 1,
     "metadata": {},
     "output_type": "execute_result"
    }
   ],
   "source": [
    "import warnings\n",
    "from os.path import join\n",
    "\n",
    "import glambox as gb\n",
    "import matplotlib.pyplot as plt\n",
    "import numpy as np\n",
    "import pandas as pd\n",
    "\n",
    "# Ignore future warnings re: multi-indexing\n",
    "warnings.simplefilter(action=\"ignore\", category=FutureWarning)\n",
    "\n",
    "# Fix for compilation error (as per Felix Molter)\n",
    "# https://stackoverflow.com/a/51312739\n",
    "import theano\n",
    "\n",
    "theano.config.gcc.cxxflags = \"-Wno-c++11-narrowing\"\n",
    "theano.config.cxx\n"
   ]
  },
  {
   "cell_type": "markdown",
   "metadata": {},
   "source": [
    "### Set MCMC Sampling Parameters"
   ]
  },
  {
   "cell_type": "code",
   "execution_count": 2,
   "metadata": {},
   "outputs": [],
   "source": [
    "# Set MCMC parameters\n",
    "n_tune = 5000\n",
    "n_draws = 5000\n",
    "n_chains = 2"
   ]
  },
  {
   "cell_type": "markdown",
   "metadata": {},
   "source": [
    "### Set Other Miscellaneous Variables"
   ]
  },
  {
   "cell_type": "code",
   "execution_count": 3,
   "metadata": {},
   "outputs": [],
   "source": [
    "# Set error weight\n",
    "error_weight = 0.01\n",
    "\n",
    "# set random seed for replicability\n",
    "np.random.seed(5)\n",
    "\n",
    "# set monkey ID\n",
    "monkeys = [\"Monkey C\", \"Monkey K\"]"
   ]
  },
  {
   "cell_type": "markdown",
   "metadata": {},
   "source": [
    "### Set Data Grouping Flag\n",
    "This notebook can be run treating each monkey as a subject, or each session as a subject. The data for the two versions are are in separate excel files. The only difference between the two is the input to the 'subject' field. \n",
    "\n",
    "**To select the correct input file, set the variable DATA_GROUPING to either 'session' or 'monkey'.** 'monkey' is the default option"
   ]
  },
  {
   "cell_type": "code",
   "execution_count": 4,
   "metadata": {},
   "outputs": [],
   "source": [
    "DATA_GROUPING = \"monkey\""
   ]
  },
  {
   "cell_type": "code",
   "execution_count": 5,
   "metadata": {},
   "outputs": [
    {
     "name": "stdout",
     "output_type": "stream",
     "text": [
      "[0 1]\n"
     ]
    }
   ],
   "source": [
    "data = pd.read_csv(\"GLAMdata_\"+ DATA_GROUPING + \".csv\")\n",
    "\n",
    "# display the unique subject numbers to make sure you set the desired data grouping flag\n",
    "print(data.subject.unique())"
   ]
  },
  {
   "cell_type": "markdown",
   "metadata": {},
   "source": [
    "## Model Fitting\n",
    "\n",
    "### Setup"
   ]
  },
  {
   "cell_type": "code",
   "execution_count": 6,
   "metadata": {},
   "outputs": [],
   "source": [
    "# initialize GLAM model objects\n",
    "BiasModel = gb.GLAM(data=data)\n",
    "NoBiasModel = gb.GLAM(data=data)"
   ]
  },
  {
   "cell_type": "code",
   "execution_count": 7,
   "metadata": {},
   "outputs": [
    {
     "name": "stdout",
     "output_type": "stream",
     "text": [
      "Generating single subject models for 2 subjects...\n",
      "Elemwise{add,no_inplace}.0\n",
      "Elemwise{add,no_inplace}.0\n",
      "Elemwise{add,no_inplace}.0\n",
      "Elemwise{add,no_inplace}.0\n",
      "Elemwise{add,no_inplace}.0\n",
      "Elemwise{add,no_inplace}.0\n",
      "Generating single subject models for 2 subjects...\n",
      "Elemwise{add,no_inplace}.0\n",
      "Elemwise{add,no_inplace}.0\n",
      "Elemwise{add,no_inplace}.0\n",
      "Elemwise{add,no_inplace}.0\n",
      "Elemwise{add,no_inplace}.0\n",
      "Elemwise{add,no_inplace}.0\n"
     ]
    }
   ],
   "source": [
    "# define models. \n",
    "# NOTE: This is where you specify that gamma=1 for the No Bias Model \n",
    "BiasModel.make_model(kind=\"individual\", error_weight=error_weight)\n",
    "NoBiasModel.make_model(kind=\"individual\", gamma_val=1, error_weight=error_weight)"
   ]
  },
  {
   "cell_type": "markdown",
   "metadata": {},
   "source": [
    "### Parameter estimation\n",
    "#### Bias Model (free gamma)"
   ]
  },
  {
   "cell_type": "code",
   "execution_count": 8,
   "metadata": {},
   "outputs": [
    {
     "name": "stdout",
     "output_type": "stream",
     "text": [
      "Fitting 2 model(s) using MCMC...\n",
      "  Fitting model 1 of 2...\n"
     ]
    },
    {
     "name": "stderr",
     "output_type": "stream",
     "text": [
      "Multiprocess sampling (2 chains in 4 jobs)\n",
      "CompoundStep\n",
      ">Metropolis: [tau]\n",
      ">Metropolis: [s]\n",
      ">Metropolis: [gamma]\n",
      ">Metropolis: [v]\n",
      "Sampling 2 chains: 100%|███████████████| 20000/20000 [05:06<00:00, 65.24draws/s]\n",
      "The number of effective samples is smaller than 10% for some parameters.\n"
     ]
    },
    {
     "name": "stdout",
     "output_type": "stream",
     "text": [
      "  Fitting model 2 of 2...\n"
     ]
    },
    {
     "name": "stderr",
     "output_type": "stream",
     "text": [
      "Multiprocess sampling (2 chains in 4 jobs)\n",
      "CompoundStep\n",
      ">Metropolis: [tau]\n",
      ">Metropolis: [s]\n",
      ">Metropolis: [gamma]\n",
      ">Metropolis: [v]\n",
      "Sampling 2 chains: 100%|███████████████| 20000/20000 [04:28<00:00, 74.56draws/s]\n",
      "The number of effective samples is smaller than 10% for some parameters.\n"
     ]
    },
    {
     "name": "stdout",
     "output_type": "stream",
     "text": [
      "/!\\ Automatically setting parameter precision...\n"
     ]
    }
   ],
   "source": [
    "BiasModel.fit(tune=n_tune, draws=n_draws, chains=n_chains)"
   ]
  },
  {
   "cell_type": "markdown",
   "metadata": {},
   "source": [
    "#### No Bias Model (gamma = 1) "
   ]
  },
  {
   "cell_type": "code",
   "execution_count": 9,
   "metadata": {},
   "outputs": [
    {
     "name": "stdout",
     "output_type": "stream",
     "text": [
      "Fitting 2 model(s) using MCMC...\n",
      "  Fitting model 1 of 2...\n"
     ]
    },
    {
     "name": "stderr",
     "output_type": "stream",
     "text": [
      "Multiprocess sampling (2 chains in 4 jobs)\n",
      "CompoundStep\n",
      ">Metropolis: [tau]\n",
      ">Metropolis: [s]\n",
      ">Metropolis: [v]\n",
      "Sampling 2 chains: 100%|██████████████| 20000/20000 [03:00<00:00, 110.69draws/s]\n",
      "The number of effective samples is smaller than 10% for some parameters.\n"
     ]
    },
    {
     "name": "stdout",
     "output_type": "stream",
     "text": [
      "  Fitting model 2 of 2...\n"
     ]
    },
    {
     "name": "stderr",
     "output_type": "stream",
     "text": [
      "Multiprocess sampling (2 chains in 4 jobs)\n",
      "CompoundStep\n",
      ">Metropolis: [tau]\n",
      ">Metropolis: [s]\n",
      ">Metropolis: [v]\n",
      "Sampling 2 chains: 100%|██████████████| 20000/20000 [02:47<00:00, 119.21draws/s]\n",
      "The number of effective samples is smaller than 10% for some parameters.\n"
     ]
    },
    {
     "name": "stdout",
     "output_type": "stream",
     "text": [
      "/!\\ Automatically setting parameter precision...\n"
     ]
    }
   ],
   "source": [
    "NoBiasModel.fit(tune=n_tune, draws=n_draws, chains=n_chains)"
   ]
  },
  {
   "cell_type": "markdown",
   "metadata": {},
   "source": [
    "### View Parameter Estimates"
   ]
  },
  {
   "cell_type": "code",
   "execution_count": 10,
   "metadata": {},
   "outputs": [
    {
     "data": {
      "text/html": [
       "<div>\n",
       "<style scoped>\n",
       "    .dataframe tbody tr th:only-of-type {\n",
       "        vertical-align: middle;\n",
       "    }\n",
       "\n",
       "    .dataframe tbody tr th {\n",
       "        vertical-align: top;\n",
       "    }\n",
       "\n",
       "    .dataframe thead th {\n",
       "        text-align: right;\n",
       "    }\n",
       "</style>\n",
       "<table border=\"1\" class=\"dataframe\">\n",
       "  <thead>\n",
       "    <tr style=\"text-align: right;\">\n",
       "      <th></th>\n",
       "      <th>gamma</th>\n",
       "      <th>gamma_hpd_2.5</th>\n",
       "      <th>gamma_hpd_97.5</th>\n",
       "      <th>s</th>\n",
       "      <th>s_hpd_2.5</th>\n",
       "      <th>s_hpd_97.5</th>\n",
       "      <th>subject</th>\n",
       "      <th>t0</th>\n",
       "      <th>t0_hpd_2.5</th>\n",
       "      <th>t0_hpd_97.5</th>\n",
       "      <th>tau</th>\n",
       "      <th>tau_hpd_2.5</th>\n",
       "      <th>tau_hpd_97.5</th>\n",
       "      <th>v</th>\n",
       "      <th>v_hpd_2.5</th>\n",
       "      <th>v_hpd_97.5</th>\n",
       "    </tr>\n",
       "  </thead>\n",
       "  <tbody>\n",
       "    <tr>\n",
       "      <th>0</th>\n",
       "      <td>0.089</td>\n",
       "      <td>0.064114</td>\n",
       "      <td>0.115126</td>\n",
       "      <td>0.195</td>\n",
       "      <td>0.193093</td>\n",
       "      <td>0.197603</td>\n",
       "      <td>0</td>\n",
       "      <td>0.0</td>\n",
       "      <td>0.0</td>\n",
       "      <td>0.0</td>\n",
       "      <td>0.267</td>\n",
       "      <td>0.260717</td>\n",
       "      <td>0.272904</td>\n",
       "      <td>2.312</td>\n",
       "      <td>2.301724</td>\n",
       "      <td>2.318995</td>\n",
       "    </tr>\n",
       "    <tr>\n",
       "      <th>1</th>\n",
       "      <td>-0.061</td>\n",
       "      <td>-0.081234</td>\n",
       "      <td>-0.031275</td>\n",
       "      <td>0.171</td>\n",
       "      <td>0.169040</td>\n",
       "      <td>0.172939</td>\n",
       "      <td>1</td>\n",
       "      <td>0.0</td>\n",
       "      <td>0.0</td>\n",
       "      <td>0.0</td>\n",
       "      <td>0.306</td>\n",
       "      <td>0.298942</td>\n",
       "      <td>0.312676</td>\n",
       "      <td>2.204</td>\n",
       "      <td>2.194551</td>\n",
       "      <td>2.212125</td>\n",
       "    </tr>\n",
       "  </tbody>\n",
       "</table>\n",
       "</div>"
      ],
      "text/plain": [
       "   gamma  gamma_hpd_2.5  gamma_hpd_97.5      s  s_hpd_2.5  s_hpd_97.5  \\\n",
       "0  0.089       0.064114        0.115126  0.195   0.193093    0.197603   \n",
       "1 -0.061      -0.081234       -0.031275  0.171   0.169040    0.172939   \n",
       "\n",
       "   subject   t0  t0_hpd_2.5  t0_hpd_97.5    tau  tau_hpd_2.5  tau_hpd_97.5  \\\n",
       "0        0  0.0         0.0          0.0  0.267     0.260717      0.272904   \n",
       "1        1  0.0         0.0          0.0  0.306     0.298942      0.312676   \n",
       "\n",
       "       v  v_hpd_2.5  v_hpd_97.5  \n",
       "0  2.312   2.301724    2.318995  \n",
       "1  2.204   2.194551    2.212125  "
      ]
     },
     "execution_count": 10,
     "metadata": {},
     "output_type": "execute_result"
    }
   ],
   "source": [
    "# display estimates for bias model\n",
    "BiasModel.estimates"
   ]
  },
  {
   "cell_type": "code",
   "execution_count": 11,
   "metadata": {},
   "outputs": [
    {
     "data": {
      "text/html": [
       "<div>\n",
       "<style scoped>\n",
       "    .dataframe tbody tr th:only-of-type {\n",
       "        vertical-align: middle;\n",
       "    }\n",
       "\n",
       "    .dataframe tbody tr th {\n",
       "        vertical-align: top;\n",
       "    }\n",
       "\n",
       "    .dataframe thead th {\n",
       "        text-align: right;\n",
       "    }\n",
       "</style>\n",
       "<table border=\"1\" class=\"dataframe\">\n",
       "  <thead>\n",
       "    <tr style=\"text-align: right;\">\n",
       "      <th></th>\n",
       "      <th>gamma</th>\n",
       "      <th>gamma_hpd_2.5</th>\n",
       "      <th>gamma_hpd_97.5</th>\n",
       "      <th>s</th>\n",
       "      <th>s_hpd_2.5</th>\n",
       "      <th>s_hpd_97.5</th>\n",
       "      <th>subject</th>\n",
       "      <th>t0</th>\n",
       "      <th>t0_hpd_2.5</th>\n",
       "      <th>t0_hpd_97.5</th>\n",
       "      <th>tau</th>\n",
       "      <th>tau_hpd_2.5</th>\n",
       "      <th>tau_hpd_97.5</th>\n",
       "      <th>v</th>\n",
       "      <th>v_hpd_2.5</th>\n",
       "      <th>v_hpd_97.5</th>\n",
       "    </tr>\n",
       "  </thead>\n",
       "  <tbody>\n",
       "    <tr>\n",
       "      <th>0</th>\n",
       "      <td>1.0</td>\n",
       "      <td>1.0</td>\n",
       "      <td>1.0</td>\n",
       "      <td>0.206</td>\n",
       "      <td>0.203994</td>\n",
       "      <td>0.208785</td>\n",
       "      <td>0</td>\n",
       "      <td>0.0</td>\n",
       "      <td>0.0</td>\n",
       "      <td>0.0</td>\n",
       "      <td>0.186</td>\n",
       "      <td>0.180509</td>\n",
       "      <td>0.190166</td>\n",
       "      <td>2.353</td>\n",
       "      <td>2.343694</td>\n",
       "      <td>2.361103</td>\n",
       "    </tr>\n",
       "    <tr>\n",
       "      <th>1</th>\n",
       "      <td>1.0</td>\n",
       "      <td>1.0</td>\n",
       "      <td>1.0</td>\n",
       "      <td>0.207</td>\n",
       "      <td>0.204411</td>\n",
       "      <td>0.209429</td>\n",
       "      <td>1</td>\n",
       "      <td>0.0</td>\n",
       "      <td>0.0</td>\n",
       "      <td>0.0</td>\n",
       "      <td>0.203</td>\n",
       "      <td>0.198640</td>\n",
       "      <td>0.208906</td>\n",
       "      <td>2.272</td>\n",
       "      <td>2.264483</td>\n",
       "      <td>2.282617</td>\n",
       "    </tr>\n",
       "  </tbody>\n",
       "</table>\n",
       "</div>"
      ],
      "text/plain": [
       "   gamma  gamma_hpd_2.5  gamma_hpd_97.5      s  s_hpd_2.5  s_hpd_97.5  \\\n",
       "0    1.0            1.0             1.0  0.206   0.203994    0.208785   \n",
       "1    1.0            1.0             1.0  0.207   0.204411    0.209429   \n",
       "\n",
       "   subject   t0  t0_hpd_2.5  t0_hpd_97.5    tau  tau_hpd_2.5  tau_hpd_97.5  \\\n",
       "0        0  0.0         0.0          0.0  0.186     0.180509      0.190166   \n",
       "1        1  0.0         0.0          0.0  0.203     0.198640      0.208906   \n",
       "\n",
       "       v  v_hpd_2.5  v_hpd_97.5  \n",
       "0  2.353   2.343694    2.361103  \n",
       "1  2.272   2.264483    2.282617  "
      ]
     },
     "execution_count": 11,
     "metadata": {},
     "output_type": "execute_result"
    }
   ],
   "source": [
    "# display estimates for no bias model\n",
    "NoBiasModel.estimates"
   ]
  },
  {
   "cell_type": "markdown",
   "metadata": {},
   "source": [
    "#### Create traceplots for fitted parameters\n",
    "This is a quality assurance measure so that we can visually assess model convergence"
   ]
  },
  {
   "cell_type": "code",
   "execution_count": null,
   "metadata": {},
   "outputs": [],
   "source": [
    "for i, monkey in enumerate(monkeys):\n",
    "    fig, axs = gb.plots.traceplot(BiasModel.trace[i])\n",
    "    fig.suptitle(monkey.capitalize(), y=1.02)\n",
    "    \n",
    "for i, monkey in enumerate(monkeys):\n",
    "    fig, axs = gb.plots.traceplot(NoBiasModel.trace[i])\n",
    "    fig.suptitle(monkey.capitalize(), y=1.02)\n",
    "        "
   ]
  },
  {
   "cell_type": "markdown",
   "metadata": {},
   "source": [
    "## Model Comparison\n",
    "The following section assesses which of the two model variants is the better fit to the data. For each subject, the listed dWAIC will be 0 for the better fitting model and >0 for the other. In the main text, as was done in Thomas et al., 2019, the dWAIC value is signed and based on subtracting the NoBiasModel from the BiasModel. Thus, a negative dWAIC is indicative of the BiasModel being the better fit."
   ]
  },
  {
   "cell_type": "code",
   "execution_count": null,
   "metadata": {},
   "outputs": [],
   "source": [
    "# run model comparison function\n",
    "modelComp = gb.analysis.compare_models(models=[BiasModel, NoBiasModel])\n",
    "\n",
    "# add model variant label\n",
    "# model 0 is the BiasModel and model 1 is the NoBias Model \n",
    "# (based on the input order to the function) \n",
    "modelComp['model'].loc[(modelComp['model']==0)]= 'BiasModel'\n",
    "modelComp['model'].loc[(modelComp['model']==1)]= 'NoBiasModel'"
   ]
  },
  {
   "cell_type": "code",
   "execution_count": 15,
   "metadata": {},
   "outputs": [
    {
     "data": {
      "text/html": [
       "<div>\n",
       "<style scoped>\n",
       "    .dataframe tbody tr th:only-of-type {\n",
       "        vertical-align: middle;\n",
       "    }\n",
       "\n",
       "    .dataframe tbody tr th {\n",
       "        vertical-align: top;\n",
       "    }\n",
       "\n",
       "    .dataframe thead th {\n",
       "        text-align: right;\n",
       "    }\n",
       "</style>\n",
       "<table border=\"1\" class=\"dataframe\">\n",
       "  <thead>\n",
       "    <tr style=\"text-align: right;\">\n",
       "      <th></th>\n",
       "      <th>subject</th>\n",
       "      <th>model</th>\n",
       "      <th>WAIC</th>\n",
       "      <th>pWAIC</th>\n",
       "      <th>dWAIC</th>\n",
       "      <th>weight</th>\n",
       "      <th>SE</th>\n",
       "      <th>dSE</th>\n",
       "      <th>var_warn</th>\n",
       "    </tr>\n",
       "  </thead>\n",
       "  <tbody>\n",
       "    <tr>\n",
       "      <th>0</th>\n",
       "      <td>Monkey C</td>\n",
       "      <td>BiasModel</td>\n",
       "      <td>-15396.9</td>\n",
       "      <td>4.37</td>\n",
       "      <td>0</td>\n",
       "      <td>0.92</td>\n",
       "      <td>246.87</td>\n",
       "      <td>0</td>\n",
       "      <td>0</td>\n",
       "    </tr>\n",
       "    <tr>\n",
       "      <th>1</th>\n",
       "      <td>Monkey C</td>\n",
       "      <td>NoBiasModel</td>\n",
       "      <td>-12039</td>\n",
       "      <td>3.22</td>\n",
       "      <td>3357.87</td>\n",
       "      <td>0.08</td>\n",
       "      <td>247.02</td>\n",
       "      <td>139.3</td>\n",
       "      <td>0</td>\n",
       "    </tr>\n",
       "    <tr>\n",
       "      <th>2</th>\n",
       "      <td>Monkey K</td>\n",
       "      <td>BiasModel</td>\n",
       "      <td>-18570.9</td>\n",
       "      <td>4.22</td>\n",
       "      <td>0</td>\n",
       "      <td>1</td>\n",
       "      <td>232.64</td>\n",
       "      <td>0</td>\n",
       "      <td>0</td>\n",
       "    </tr>\n",
       "    <tr>\n",
       "      <th>3</th>\n",
       "      <td>Monkey K</td>\n",
       "      <td>NoBiasModel</td>\n",
       "      <td>-10411.2</td>\n",
       "      <td>3.03</td>\n",
       "      <td>8159.71</td>\n",
       "      <td>0</td>\n",
       "      <td>224.5</td>\n",
       "      <td>177.05</td>\n",
       "      <td>0</td>\n",
       "    </tr>\n",
       "  </tbody>\n",
       "</table>\n",
       "</div>"
      ],
      "text/plain": [
       "    subject        model     WAIC pWAIC    dWAIC weight      SE     dSE  \\\n",
       "0  Monkey C    BiasModel -15396.9  4.37        0   0.92  246.87       0   \n",
       "1  Monkey C  NoBiasModel   -12039  3.22  3357.87   0.08  247.02   139.3   \n",
       "2  Monkey K    BiasModel -18570.9  4.22        0      1  232.64       0   \n",
       "3  Monkey K  NoBiasModel -10411.2  3.03  8159.71      0   224.5  177.05   \n",
       "\n",
       "  var_warn  \n",
       "0        0  \n",
       "1        0  \n",
       "2        0  \n",
       "3        0  "
      ]
     },
     "execution_count": 15,
     "metadata": {},
     "output_type": "execute_result"
    }
   ],
   "source": [
    "if DATA_GROUPING == \"session\":\n",
    "    # data for 'subject' 29-53 belong to Monkey K\n",
    "    # data for 'subject' 0-28 belong to Monkey C\n",
    "    monkeyKIdx = modelComp['subject'] >= 29\n",
    "    modelComp.insert(0,'id',monkeyKIdx)\n",
    "    modelComp['id'].loc[(modelComp['id']==True)]= monkeys[1]\n",
    "    modelComp['id'].loc[(modelComp['id']==False)]= monkeys[0]\n",
    "else:\n",
    "    modelComp['subject'].loc[(modelComp['subject']==0)]= monkeys[0]\n",
    "    modelComp['subject'].loc[(modelComp['subject']==1)]= monkeys[1]\n",
    "    \n",
    "modelComp"
   ]
  }
 ],
 "metadata": {
  "kernelspec": {
   "display_name": "Python 3 (ipykernel)",
   "language": "python",
   "name": "python3"
  },
  "language_info": {
   "codemirror_mode": {
    "name": "ipython",
    "version": 3
   },
   "file_extension": ".py",
   "mimetype": "text/x-python",
   "name": "python",
   "nbconvert_exporter": "python",
   "pygments_lexer": "ipython3",
   "version": "3.7.13"
  }
 },
 "nbformat": 4,
 "nbformat_minor": 4
}
