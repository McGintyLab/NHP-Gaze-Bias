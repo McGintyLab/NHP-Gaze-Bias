{
 "cells": [
  {
   "cell_type": "markdown",
   "metadata": {},
   "source": [
    "# Absolute GLAM Fit\n",
    "This notebook estimates parameters for the GLAM to half of the data and then simulates the held out trials. For quantification of the absolute fit, see the _GLAM_OOS_ModelFit.mlx_ analysis script in this repository."
   ]
  },
  {
   "cell_type": "markdown",
   "metadata": {},
   "source": [
    "## Housekeeping\n",
    "### Load Necessary Libraries"
   ]
  },
  {
   "cell_type": "code",
   "execution_count": 1,
   "metadata": {},
   "outputs": [
    {
     "data": {
      "text/plain": [
       "'/usr/bin/clang++'"
      ]
     },
     "execution_count": 1,
     "metadata": {},
     "output_type": "execute_result"
    }
   ],
   "source": [
    "import warnings\n",
    "from os.path import join\n",
    "\n",
    "import glambox as gb\n",
    "import matplotlib.pyplot as plt\n",
    "import numpy as np\n",
    "import pandas as pd\n",
    "\n",
    "# Ignore future warnings re: multi-indexing\n",
    "warnings.simplefilter(action=\"ignore\", category=FutureWarning)\n",
    "\n",
    "# Fix for compilation error (as per Felix Molter)\n",
    "# https://stackoverflow.com/a/51312739\n",
    "import theano\n",
    "\n",
    "theano.config.gcc.cxxflags = \"-Wno-c++11-narrowing\"\n",
    "theano.config.cxx\n"
   ]
  },
  {
   "cell_type": "markdown",
   "metadata": {},
   "source": [
    "### Set MCMC Sampling Parameters"
   ]
  },
  {
   "cell_type": "code",
   "execution_count": 2,
   "metadata": {},
   "outputs": [],
   "source": [
    "# Set MCMC parameters\n",
    "n_tune = 5000\n",
    "n_draws = 5000\n",
    "n_chains = 2"
   ]
  },
  {
   "cell_type": "markdown",
   "metadata": {},
   "source": [
    "### Set Other Miscellaneous Variables"
   ]
  },
  {
   "cell_type": "code",
   "execution_count": 3,
   "metadata": {},
   "outputs": [],
   "source": [
    "# Set error weight\n",
    "error_weight = 0.01\n",
    "\n",
    "#\n",
    "# set monkey ID\n",
    "monkeys = [\"MonkeyC\", \"MonkeyK\"]"
   ]
  },
  {
   "cell_type": "markdown",
   "metadata": {},
   "source": [
    "### Set Data Grouping Flag\n",
    "This notebook can be run treating each monkey as a subject, or each session as a subject. The data for the two versions are are in separate excel files. The only difference between the two is the input to the 'subject' field. \n",
    "\n",
    "**To select the correct input file, set the variable DATA_GROUPING to either 'session' or 'monkey'.** 'monkey' is the default option"
   ]
  },
  {
   "cell_type": "code",
   "execution_count": 4,
   "metadata": {},
   "outputs": [],
   "source": [
    "DATA_GROUPING = \"monkey\""
   ]
  },
  {
   "cell_type": "code",
   "execution_count": 5,
   "metadata": {},
   "outputs": [
    {
     "name": "stdout",
     "output_type": "stream",
     "text": [
      "[0 1]\n"
     ]
    }
   ],
   "source": [
    "data = pd.read_csv(\"GLAMdata_\"+ DATA_GROUPING + \".csv\")\n",
    "\n",
    "# display the unique subject numbers to make sure you set the desired data grouping flag\n",
    "print(data.subject.unique())"
   ]
  },
  {
   "cell_type": "markdown",
   "metadata": {},
   "source": [
    "#### Split data into even and odd trials"
   ]
  },
  {
   "cell_type": "code",
   "execution_count": 6,
   "metadata": {},
   "outputs": [],
   "source": [
    "data_odd = pd.DataFrame()\n",
    "data_even = pd.DataFrame()\n",
    "subIds = data.subject.unique()\n",
    "for s in subIds:\n",
    "    tmp_odd = data.loc[(data[\"trial\"] % 2 == 1) & (data[\"subject\"] == s)]\n",
    "    tmp_even = data.loc[(data[\"trial\"] % 2 == 0) & (data[\"subject\"] == s)]\n",
    "    data_even = data_even.append(tmp_even)\n",
    "    data_odd = data_odd.append(tmp_odd)"
   ]
  },
  {
   "cell_type": "markdown",
   "metadata": {},
   "source": [
    "## Parameter Estimation\n",
    "This section uses the even-numbered trials to estimate the GLAM parameters."
   ]
  },
  {
   "cell_type": "code",
   "execution_count": 7,
   "metadata": {},
   "outputs": [],
   "source": [
    "# initialize GLAM model object with the even-numbered trials\n",
    "model = gb.GLAM(data=data_even)"
   ]
  },
  {
   "cell_type": "code",
   "execution_count": 8,
   "metadata": {},
   "outputs": [
    {
     "name": "stdout",
     "output_type": "stream",
     "text": [
      "Generating single subject models for 2 subjects...\n",
      "Elemwise{add,no_inplace}.0\n",
      "Elemwise{add,no_inplace}.0\n",
      "Elemwise{add,no_inplace}.0\n",
      "Elemwise{add,no_inplace}.0\n",
      "Elemwise{add,no_inplace}.0\n",
      "Elemwise{add,no_inplace}.0\n"
     ]
    }
   ],
   "source": [
    "# define model. \n",
    "model.make_model(kind=\"individual\", t0_val=0, error_weight=error_weight)"
   ]
  },
  {
   "cell_type": "code",
   "execution_count": 9,
   "metadata": {},
   "outputs": [
    {
     "name": "stdout",
     "output_type": "stream",
     "text": [
      "Fitting 2 model(s) using MCMC...\n",
      "  Fitting model 1 of 2...\n"
     ]
    },
    {
     "name": "stderr",
     "output_type": "stream",
     "text": [
      "Multiprocess sampling (2 chains in 4 jobs)\n",
      "CompoundStep\n",
      ">Metropolis: [tau]\n",
      ">Metropolis: [s]\n",
      ">Metropolis: [gamma]\n",
      ">Metropolis: [v]\n",
      "Sampling 2 chains: 100%|██████████████| 20000/20000 [01:37<00:00, 205.05draws/s]\n",
      "The number of effective samples is smaller than 10% for some parameters.\n"
     ]
    },
    {
     "name": "stdout",
     "output_type": "stream",
     "text": [
      "  Fitting model 2 of 2...\n"
     ]
    },
    {
     "name": "stderr",
     "output_type": "stream",
     "text": [
      "Multiprocess sampling (2 chains in 4 jobs)\n",
      "CompoundStep\n",
      ">Metropolis: [tau]\n",
      ">Metropolis: [s]\n",
      ">Metropolis: [gamma]\n",
      ">Metropolis: [v]\n",
      "Sampling 2 chains: 100%|██████████████| 20000/20000 [01:30<00:00, 221.00draws/s]\n",
      "The number of effective samples is smaller than 10% for some parameters.\n"
     ]
    },
    {
     "name": "stdout",
     "output_type": "stream",
     "text": [
      "/!\\ Automatically setting parameter precision...\n"
     ]
    }
   ],
   "source": [
    "# fit model to the data\n",
    "model.fit(tune=n_tune, draws=n_draws, chains=n_chains)"
   ]
  },
  {
   "cell_type": "code",
   "execution_count": 10,
   "metadata": {},
   "outputs": [
    {
     "data": {
      "text/html": [
       "<div>\n",
       "<style scoped>\n",
       "    .dataframe tbody tr th:only-of-type {\n",
       "        vertical-align: middle;\n",
       "    }\n",
       "\n",
       "    .dataframe tbody tr th {\n",
       "        vertical-align: top;\n",
       "    }\n",
       "\n",
       "    .dataframe thead th {\n",
       "        text-align: right;\n",
       "    }\n",
       "</style>\n",
       "<table border=\"1\" class=\"dataframe\">\n",
       "  <thead>\n",
       "    <tr style=\"text-align: right;\">\n",
       "      <th></th>\n",
       "      <th>gamma</th>\n",
       "      <th>gamma_hpd_2.5</th>\n",
       "      <th>gamma_hpd_97.5</th>\n",
       "      <th>s</th>\n",
       "      <th>s_hpd_2.5</th>\n",
       "      <th>s_hpd_97.5</th>\n",
       "      <th>subject</th>\n",
       "      <th>t0</th>\n",
       "      <th>t0_hpd_2.5</th>\n",
       "      <th>t0_hpd_97.5</th>\n",
       "      <th>tau</th>\n",
       "      <th>tau_hpd_2.5</th>\n",
       "      <th>tau_hpd_97.5</th>\n",
       "      <th>v</th>\n",
       "      <th>v_hpd_2.5</th>\n",
       "      <th>v_hpd_97.5</th>\n",
       "    </tr>\n",
       "  </thead>\n",
       "  <tbody>\n",
       "    <tr>\n",
       "      <th>0</th>\n",
       "      <td>0.08</td>\n",
       "      <td>0.047285</td>\n",
       "      <td>0.11977</td>\n",
       "      <td>0.196</td>\n",
       "      <td>0.192877</td>\n",
       "      <td>0.199230</td>\n",
       "      <td>0</td>\n",
       "      <td>0.0</td>\n",
       "      <td>0.0</td>\n",
       "      <td>0.0</td>\n",
       "      <td>0.263</td>\n",
       "      <td>0.254325</td>\n",
       "      <td>0.270821</td>\n",
       "      <td>2.312</td>\n",
       "      <td>2.301951</td>\n",
       "      <td>2.325475</td>\n",
       "    </tr>\n",
       "    <tr>\n",
       "      <th>1</th>\n",
       "      <td>-0.05</td>\n",
       "      <td>-0.083737</td>\n",
       "      <td>-0.01550</td>\n",
       "      <td>0.171</td>\n",
       "      <td>0.168130</td>\n",
       "      <td>0.173755</td>\n",
       "      <td>1</td>\n",
       "      <td>0.0</td>\n",
       "      <td>0.0</td>\n",
       "      <td>0.0</td>\n",
       "      <td>0.303</td>\n",
       "      <td>0.294645</td>\n",
       "      <td>0.312501</td>\n",
       "      <td>2.205</td>\n",
       "      <td>2.192398</td>\n",
       "      <td>2.216070</td>\n",
       "    </tr>\n",
       "  </tbody>\n",
       "</table>\n",
       "</div>"
      ],
      "text/plain": [
       "   gamma  gamma_hpd_2.5  gamma_hpd_97.5      s  s_hpd_2.5  s_hpd_97.5  \\\n",
       "0   0.08       0.047285         0.11977  0.196   0.192877    0.199230   \n",
       "1  -0.05      -0.083737        -0.01550  0.171   0.168130    0.173755   \n",
       "\n",
       "   subject   t0  t0_hpd_2.5  t0_hpd_97.5    tau  tau_hpd_2.5  tau_hpd_97.5  \\\n",
       "0        0  0.0         0.0          0.0  0.263     0.254325      0.270821   \n",
       "1        1  0.0         0.0          0.0  0.303     0.294645      0.312501   \n",
       "\n",
       "       v  v_hpd_2.5  v_hpd_97.5  \n",
       "0  2.312   2.301951    2.325475  \n",
       "1  2.205   2.192398    2.216070  "
      ]
     },
     "execution_count": 10,
     "metadata": {},
     "output_type": "execute_result"
    }
   ],
   "source": [
    "# Show parameter estimates\n",
    "# Monkey C is row 0 and Monkey K is row 1.\n",
    "model.estimates"
   ]
  },
  {
   "cell_type": "markdown",
   "metadata": {},
   "source": [
    "## Out-of-Sample Simulations\n",
    "This section uses the estimated parameters to simulate each of the held-out (odd-numbered) trials. See 'GLAM_OOS_ModelFit.mlx' in the _Matlab_ folder of this repository for visualization and assessment of the out-of-sample simulations' goodness-of-fit. "
   ]
  },
  {
   "cell_type": "code",
   "execution_count": 11,
   "metadata": {},
   "outputs": [
    {
     "name": "stdout",
     "output_type": "stream",
     "text": [
      "Replaced attached data (15024 trials) with new data (15022 trials)...\n"
     ]
    }
   ],
   "source": [
    "# swap out the even-numbered trials with the held-out odd trials. \n",
    "model.exchange_data(new_data=data_odd)"
   ]
  },
  {
   "cell_type": "code",
   "execution_count": 12,
   "metadata": {},
   "outputs": [
    {
     "name": "stderr",
     "output_type": "stream",
     "text": [
      "  0%|                                         | 3/15022 [00:00<10:24, 24.06it/s]"
     ]
    },
    {
     "name": "stdout",
     "output_type": "stream",
     "text": [
      "Generating predictions for 15022 trials (10 repeats each)...\n"
     ]
    },
    {
     "name": "stderr",
     "output_type": "stream",
     "text": [
      "100%|█████████████████████████████████████| 15022/15022 [23:46<00:00, 10.53it/s]\n"
     ]
    }
   ],
   "source": [
    "# simulate each of the held-out trials 10x\n",
    "model.predict(n_repeats=10, error_weight=error_weight)"
   ]
  },
  {
   "cell_type": "markdown",
   "metadata": {},
   "source": [
    "### Visualize Results\n",
    "The visualization shown in the manuscript was generated using the _GLAM_OOS_ModelFit.mlx_ file. The mat file loaded by that script uses data exported from python "
   ]
  }
 ],
 "metadata": {
  "kernelspec": {
   "display_name": "Python 3 (ipykernel)",
   "language": "python",
   "name": "python3"
  },
  "language_info": {
   "codemirror_mode": {
    "name": "ipython",
    "version": 3
   },
   "file_extension": ".py",
   "mimetype": "text/x-python",
   "name": "python",
   "nbconvert_exporter": "python",
   "pygments_lexer": "ipython3",
   "version": "3.7.13"
  }
 },
 "nbformat": 4,
 "nbformat_minor": 4
}
